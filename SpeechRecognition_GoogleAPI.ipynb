{
 "metadata": {
  "language_info": {
   "codemirror_mode": {
    "name": "ipython",
    "version": 3
   },
   "file_extension": ".py",
   "mimetype": "text/x-python",
   "name": "python",
   "nbconvert_exporter": "python",
   "pygments_lexer": "ipython3",
   "version": "3.8.5-final"
  },
  "orig_nbformat": 2,
  "kernelspec": {
   "name": "python38564bitvspeechrecognitionpipenvffb0d5b8219f49d58f10549cfc947909",
   "display_name": "Python 3.8.5 64-bit ('vspeechrecognition': pipenv)",
   "language": "python"
  }
 },
 "nbformat": 4,
 "nbformat_minor": 2,
 "cells": [
  {
   "cell_type": "code",
   "execution_count": 1,
   "metadata": {},
   "outputs": [],
   "source": [
    "import pathlib\n",
    "import speech_recognition"
   ]
  },
  {
   "cell_type": "code",
   "execution_count": 2,
   "metadata": {},
   "outputs": [],
   "source": [
    "wav_path = pathlib.Path('/tmp/melissa_test.wav')\n",
    "recognizer = speech_recognition.Recognizer()\n",
    "with speech_recognition.AudioFile(wav_path.open('rb')) as source:\n",
    "    audio = recognizer.record(source)"
   ]
  },
  {
   "cell_type": "code",
   "execution_count": 3,
   "metadata": {},
   "outputs": [
    {
     "output_type": "execute_result",
     "data": {
      "text/plain": [
       "'プール行ってないかね 今日 外 寒かった 久々に会いに行ったんですよ なんかあれを ねこねこねこねこそうなんか 復旧不要不要不急の外出とタラカンタラ っていうのがあったじゃないですか 今ご時世的にしないほうがいいじゃないですか それでね 今冷凍庫がパンパンなんですよ あの野菜とかキノコとかでなんか冷凍野菜とかあと 肉 僕の家 ちょっとこれはやめたほうがいいと思うんだけど'"
      ]
     },
     "metadata": {},
     "execution_count": 3
    }
   ],
   "source": [
    "recognizer.recognize_google(audio, language='ja-JP')"
   ]
  }
 ]
}